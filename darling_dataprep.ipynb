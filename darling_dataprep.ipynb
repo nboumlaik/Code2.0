{
  "nbformat": 4,
  "nbformat_minor": 0,
  "metadata": {
    "colab": {
      "name": "darling_dataprep.ipynb",
      "provenance": [],
      "collapsed_sections": [],
      "include_colab_link": true
    },
    "kernelspec": {
      "name": "python3",
      "display_name": "Python 3"
    }
  },
  "cells": [
    {
      "cell_type": "markdown",
      "metadata": {
        "id": "view-in-github",
        "colab_type": "text"
      },
      "source": [
        "<a href=\"https://colab.research.google.com/github/nboumlaik/Code2.0/blob/master/darling_dataprep.ipynb\" target=\"_parent\"><img src=\"https://colab.research.google.com/assets/colab-badge.svg\" alt=\"Open In Colab\"/></a>"
      ]
    },
    {
      "cell_type": "code",
      "metadata": {
        "id": "2VkiyAX1Z8Jn",
        "colab_type": "code",
        "outputId": "b158fc2b-0cf3-4bda-e03c-0d9ed7cdc63a",
        "colab": {
          "base_uri": "https://localhost:8080/",
          "height": 374
        }
      },
      "source": [
        "pip install gcsfs==0.5"
      ],
      "execution_count": 0,
      "outputs": [
        {
          "output_type": "stream",
          "text": [
            "Collecting gcsfs==0.5\n",
            "  Downloading https://files.pythonhosted.org/packages/ce/18/77b11d91ddd0659d2588ff52780e56cb3678fb1a83eeb47cfe14f9c6ebb5/gcsfs-0.5.0-py2.py3-none-any.whl\n",
            "Requirement already satisfied: decorator in /usr/local/lib/python3.6/dist-packages (from gcsfs==0.5) (4.4.1)\n",
            "Requirement already satisfied: fsspec>=0.6.0 in /usr/local/lib/python3.6/dist-packages (from gcsfs==0.5) (0.6.2)\n",
            "Requirement already satisfied: google-auth-oauthlib in /usr/local/lib/python3.6/dist-packages (from gcsfs==0.5) (0.4.1)\n",
            "Requirement already satisfied: google-auth>=1.2 in /usr/local/lib/python3.6/dist-packages (from gcsfs==0.5) (1.7.2)\n",
            "Requirement already satisfied: requests in /usr/local/lib/python3.6/dist-packages (from gcsfs==0.5) (2.21.0)\n",
            "Requirement already satisfied: requests-oauthlib>=0.7.0 in /usr/local/lib/python3.6/dist-packages (from google-auth-oauthlib->gcsfs==0.5) (1.3.0)\n",
            "Requirement already satisfied: pyasn1-modules>=0.2.1 in /usr/local/lib/python3.6/dist-packages (from google-auth>=1.2->gcsfs==0.5) (0.2.8)\n",
            "Requirement already satisfied: six>=1.9.0 in /usr/local/lib/python3.6/dist-packages (from google-auth>=1.2->gcsfs==0.5) (1.12.0)\n",
            "Requirement already satisfied: rsa<4.1,>=3.1.4 in /usr/local/lib/python3.6/dist-packages (from google-auth>=1.2->gcsfs==0.5) (4.0)\n",
            "Requirement already satisfied: setuptools>=40.3.0 in /usr/local/lib/python3.6/dist-packages (from google-auth>=1.2->gcsfs==0.5) (45.1.0)\n",
            "Requirement already satisfied: cachetools<3.2,>=2.0.0 in /usr/local/lib/python3.6/dist-packages (from google-auth>=1.2->gcsfs==0.5) (3.1.1)\n",
            "Requirement already satisfied: urllib3<1.25,>=1.21.1 in /usr/local/lib/python3.6/dist-packages (from requests->gcsfs==0.5) (1.24.3)\n",
            "Requirement already satisfied: chardet<3.1.0,>=3.0.2 in /usr/local/lib/python3.6/dist-packages (from requests->gcsfs==0.5) (3.0.4)\n",
            "Requirement already satisfied: idna<2.9,>=2.5 in /usr/local/lib/python3.6/dist-packages (from requests->gcsfs==0.5) (2.8)\n",
            "Requirement already satisfied: certifi>=2017.4.17 in /usr/local/lib/python3.6/dist-packages (from requests->gcsfs==0.5) (2019.11.28)\n",
            "Requirement already satisfied: oauthlib>=3.0.0 in /usr/local/lib/python3.6/dist-packages (from requests-oauthlib>=0.7.0->google-auth-oauthlib->gcsfs==0.5) (3.1.0)\n",
            "Requirement already satisfied: pyasn1<0.5.0,>=0.4.6 in /usr/local/lib/python3.6/dist-packages (from pyasn1-modules>=0.2.1->google-auth>=1.2->gcsfs==0.5) (0.4.8)\n",
            "Installing collected packages: gcsfs\n",
            "Successfully installed gcsfs-0.5.0\n"
          ],
          "name": "stdout"
        }
      ]
    },
    {
      "cell_type": "code",
      "metadata": {
        "id": "fO740AgjcBkC",
        "colab_type": "code",
        "outputId": "d9a805c2-4380-4fde-98a7-5f6754890107",
        "colab": {
          "base_uri": "https://localhost:8080/",
          "height": 170
        }
      },
      "source": [
        "pip install config"
      ],
      "execution_count": 0,
      "outputs": [
        {
          "output_type": "stream",
          "text": [
            "Collecting config\n",
            "  Downloading https://files.pythonhosted.org/packages/59/6c/4ab0d80b22dca3baab49670b75ae2183b59649e9f27c11018075e509048e/config-0.4.2.tar.gz\n",
            "Building wheels for collected packages: config\n",
            "  Building wheel for config (setup.py) ... \u001b[?25l\u001b[?25hdone\n",
            "  Created wheel for config: filename=config-0.4.2-cp36-none-any.whl size=15135 sha256=2d774d684dd5da7bc353853997fb29d0237c326ab72aa73f1f8ff89a8bb5c5a4\n",
            "  Stored in directory: /root/.cache/pip/wheels/51/7d/db/0e38d2ec57843d00cc39f8df3686984ccec689694f7bc78a38\n",
            "Successfully built config\n",
            "Installing collected packages: config\n",
            "Successfully installed config-0.4.2\n"
          ],
          "name": "stdout"
        }
      ]
    },
    {
      "cell_type": "code",
      "metadata": {
        "id": "XwrFpy_xb7BD",
        "colab_type": "code",
        "colab": {}
      },
      "source": [
        "import pandas as pd\n",
        "import uuid\n",
        "from google.colab import auth\n",
        "import os\n",
        "from pathlib import Path\n",
        "import gcsfs\n",
        "import numpy as np\n",
        "import ntpath"
      ],
      "execution_count": 0,
      "outputs": []
    },
    {
      "cell_type": "code",
      "metadata": {
        "id": "pPC84fBaZ-KL",
        "colab_type": "code",
        "colab": {}
      },
      "source": [
        "project_id = \"darling-254913\"\n",
        "bucket_name = 'env_dev' + str(uuid.uuid1())"
      ],
      "execution_count": 0,
      "outputs": []
    },
    {
      "cell_type": "code",
      "metadata": {
        "id": "wN2gBdH8Z_eD",
        "colab_type": "code",
        "colab": {}
      },
      "source": [
        "auth.authenticate_user()"
      ],
      "execution_count": 0,
      "outputs": []
    },
    {
      "cell_type": "code",
      "metadata": {
        "id": "18dhrlrhj68D",
        "colab_type": "code",
        "outputId": "6bd2a6d4-6eb8-442f-a095-495e53431906",
        "colab": {
          "base_uri": "https://localhost:8080/",
          "height": 119
        }
      },
      "source": [
        "!gcloud config set project {'darling-254913'}"
      ],
      "execution_count": 0,
      "outputs": [
        {
          "output_type": "stream",
          "text": [
            "Updated property [core/project].\n",
            "\n",
            "\n",
            "To take a quick anonymous survey, run:\n",
            "  $ gcloud survey\n",
            "\n"
          ],
          "name": "stdout"
        }
      ]
    },
    {
      "cell_type": "code",
      "metadata": {
        "id": "_8uWUAdsZ4fG",
        "colab_type": "code",
        "colab": {}
      },
      "source": [
        "# data_root = Path(\"gs://env_dev/\")\n",
        "data_root = \"gs://env_dev/\""
      ],
      "execution_count": 0,
      "outputs": []
    },
    {
      "cell_type": "code",
      "metadata": {
        "id": "1g9pfXClabvh",
        "colab_type": "code",
        "colab": {}
      },
      "source": [
        "def concat_col_names(cols1, cols2) -> list:\n",
        "    ziplists = zip(cols1, cols2)\n",
        "    res = []\n",
        "    for i, j in ziplists:\n",
        "      if j == '' or j == i:\n",
        "        res += [i]\n",
        "      else:\n",
        "        res += [\"%s_%s\" % (i, j)]\n",
        "    return res\n",
        "\n",
        "\n",
        "def get_date_from_path(file_path) -> str:\n",
        "    fname = ntpath.basename(file_path)\n",
        "    name = os.path.splitext(fname)[0]\n",
        "    name = name.replace('irk ', '')\n",
        "    name = name.replace('v2', '')\n",
        "    return name\n",
        "\n",
        "\n",
        "def index_cleaner(table, cols_res_names) -> pd.DataFrame:\n",
        "    index = table.index.tolist()\n",
        "    index[1] = 'name2'\n",
        "    table.index = index\n",
        "    table = table.reset_index()\n",
        "    table = table.dropna(axis=0, subset=['index'])\n",
        "    table = table.set_index('index')\n",
        "    table.loc['name2'] = cols_res_names\n",
        "    return table\n",
        "\n",
        "\n",
        "def merge(df, increment) -> pd.DataFrame:\n",
        "    out = df.append(increment, sort=True)\n",
        "    out = out[~out.index.duplicated()]\n",
        "    return out.fillna(increment)"
      ],
      "execution_count": 0,
      "outputs": []
    },
    {
      "cell_type": "code",
      "metadata": {
        "id": "HxLeTjLbFEo3",
        "colab_type": "code",
        "colab": {}
      },
      "source": [
        "# sim_cov\n",
        "path_listing = \"%s%s\" % (data_root, \"Listing sociétés\")\n",
        "xlsx_files = gcsfs.GCSFileSystem(project_id).ls(path=path_listing)\n",
        "\n",
        "df_sim_cov = None\n",
        "cols = ['Company Name', 'Geographic Locations', 'Exchanges [Primary Listing]',\n",
        "        'Equity Features', 'No of Analysts', 'Equity Type', 'Company Type',\n",
        "        'Excel Company ID', 'Industry Classifications', 'Average - 1 Months']\n",
        "for name in xlsx_files:\n",
        "    full_path = 'gs://%s' % name\n",
        "    oxlsx = pd.ExcelFile(full_path)\n",
        "    sheet_names = [i for i in oxlsx.sheet_names if 'LISTING' in i.upper()]\n",
        "    for sheet_name in sheet_names:\n",
        "        dfderiv = oxlsx.parse(sheet_name=sheet_name, header=7)\n",
        "        dfderiv = dfderiv[cols]\n",
        "        dfderiv.dropna(how='all', inplace=True)\n",
        "        new_col_name = 'Average - 1 Months Daily Value Traded'\n",
        "        dfderiv = dfderiv.rename(columns={'Average - 1 Months': new_col_name})\n",
        "        if df_sim_cov is None:\n",
        "            df_sim_cov = dfderiv.copy()\n",
        "        else:\n",
        "            df_sim_cov = merge(df_sim_cov, dfderiv)\n",
        "\n",
        "df_sim_cov = df_sim_cov.set_index('Company Name')\n",
        "df_sim_cov.to_csv(\"%sBASE/sim_cov.csv\" % data_root)"
      ],
      "execution_count": 0,
      "outputs": []
    },
    {
      "cell_type": "code",
      "metadata": {
        "id": "W-773WyBMLBu",
        "colab_type": "code",
        "colab": {}
      },
      "source": [
        "df_sim_cov.to_csv(\"%sBASE/sim_cov.csv\" % data_root)"
      ],
      "execution_count": 0,
      "outputs": []
    },
    {
      "cell_type": "code",
      "metadata": {
        "id": "e3hAWB3KnzEN",
        "colab_type": "code",
        "colab": {}
      },
      "source": [
        "# path_red_irk = data_root / 'data' / 'data_IRK REF.xlsx' fonction pas\n",
        "path_red_irk = \"%s%s\" % (data_root, \"data/IRK REF.xlsx\")\n",
        "df_irk_ref = pd.read_excel(path_red_irk, index_col=0, header=None)\n",
        "index = df_irk_ref.index.tolist()\n",
        "index[2] = 'col_to_keep'\n",
        "df_irk_ref.index = index\n",
        "cols_ref_integer = df_irk_ref.dropna(axis=1, subset=['col_to_keep']).columns\n",
        "path_target = \"gs://env_dev/fichiers irk v2/\"\n",
        "list_xls_names = gcsfs.GCSFileSystem(project_id).ls(path=path_target)\n",
        "cols_res_names = df_irk_ref.dropna(axis=1,\n",
        "                                   subset=['col_to_keep']).loc['col_to_keep'].tolist()"
      ],
      "execution_count": 0,
      "outputs": []
    },
    {
      "cell_type": "code",
      "metadata": {
        "id": "11y9BUYXiRRB",
        "colab_type": "code",
        "colab": {}
      },
      "source": [
        "\n",
        "list_name2 = df_irk_ref.loc['col_to_keep'].fillna('').tolist()\n",
        "dict_res = {}\n",
        "n = len(list_xls_names)\n",
        "m = 1\n",
        "for filepath in list_xls_names:\n",
        "    if \".xlsx\" in filepath:\n",
        "        print('Processing for %s' % filepath)\n",
        "        print('%s/%s' % (m, n))\n",
        "        m += 1\n",
        "        full_path = 'gs://%s' % filepath\n",
        "        df = pd.read_excel(full_path, index_col=0, header=None,\n",
        "                           sheet_name=\"Skynet\")\n",
        "        df = df[cols_ref_integer]\n",
        "        df = index_cleaner(df, cols_res_names)\n",
        "        list_name1 = df.loc['Nom'].tolist()\n",
        "        list_name2 = df.loc['name2'].fillna('').tolist()\n",
        "\n",
        "        new_cols = concat_col_names(list_name1, list_name2)\n",
        "        df.columns = new_cols\n",
        "        df.drop(labels=['Nom', 'name2'], axis=0, inplace=True)\n",
        "        df = df.set_index('ISIN')\n",
        "        str_date = get_date_from_path(filepath)\n",
        "        dict_res[str_date] = df\n",
        "\n"
      ],
      "execution_count": 0,
      "outputs": []
    },
    {
      "cell_type": "code",
      "metadata": {
        "id": "byPDYQI8oVD-",
        "colab_type": "code",
        "colab": {}
      },
      "source": [
        "dict_res_final = {}\n",
        "for date, df in dict_res.items():\n",
        "    print('Processing %s' % date)\n",
        "    for col in df.columns:\n",
        "        df_col = df[[col]].T\n",
        "        df_col.index = [date]\n",
        "        if col not in dict_res_final.keys():\n",
        "            dict_res_final[col] = df_col\n",
        "        else:\n",
        "            df_col_in_dict = dict_res_final[col]\n",
        "            dict_res_final[col] = merge(df_col_in_dict, df_col)\n"
      ],
      "execution_count": 0,
      "outputs": []
    },
    {
      "cell_type": "code",
      "metadata": {
        "id": "mi80qrAXpL7N",
        "colab_type": "code",
        "colab": {}
      },
      "source": [
        "for col, df in dict_res_final.items():\n",
        "    df.index = pd.to_datetime(df.index)\n",
        "    try:\n",
        "        df = df.astype('float')\n",
        "    except:\n",
        "        pass\n",
        "    col = col.replace('/', '_')\n",
        "    save_path = \"gs://env_dev/BASE/AFRS/%s.csv\" % col\n",
        "    df.to_csv(save_path, float_format='%.6f')"
      ],
      "execution_count": 0,
      "outputs": []
    }
  ]
}